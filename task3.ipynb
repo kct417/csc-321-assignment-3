{
 "cells": [
  {
   "cell_type": "code",
   "execution_count": 3,
   "metadata": {},
   "outputs": [
    {
     "data": {
      "text/plain": [
       "'Hello, world!'"
      ]
     },
     "execution_count": 3,
     "metadata": {},
     "output_type": "execute_result"
    }
   ],
   "source": [
    "from math import gcd\n",
    "from typing import Tuple\n",
    "from Crypto.Util.number import getPrime\n",
    "\n",
    "\n",
    "def mod_inverse(a, n):\n",
    "    return pow(a, -1, n)\n",
    "\n",
    "\n",
    "# Extended Euclidean algorithm\n",
    "def egcd(a, n):\n",
    "    pass\n",
    "\n",
    "\n",
    "def generate_keys(prime_size: int = 1024):\n",
    "    e = 65537\n",
    "    while True:\n",
    "        p = getPrime(prime_size)\n",
    "        q = getPrime(prime_size)\n",
    "        totient = (p - 1) * (q - 1)\n",
    "        if gcd(e, totient) == 1:  # ensure e is coprime with totient\n",
    "            break\n",
    "\n",
    "    n = p * q\n",
    "    d = pow(e, -1, totient)  # modular multiplicative inverse of e mod totient\n",
    "    return (n, e), (n, d)\n",
    "\n",
    "\n",
    "def encrypt(m: str, pubkey: Tuple[int, int]) -> int:\n",
    "    m = int.from_bytes(m.encode())\n",
    "    n, e = pubkey\n",
    "    return pow(m, e, n)\n",
    "\n",
    "\n",
    "def decrypt(c: int, privkey: Tuple[int, int]) -> str:\n",
    "    n, d = privkey\n",
    "    m = pow(c, d, n)\n",
    "    return m.to_bytes((m.bit_length() + 7) // 8).decode()\n",
    "\n",
    "\n",
    "message = \"Hello, world!\"\n",
    "pubkey, privkey = generate_keys()\n",
    "ciphertext = encrypt(message, pubkey)\n",
    "recovered_message = decrypt(ciphertext, privkey)\n",
    "recovered_message"
   ]
  },
  {
   "cell_type": "code",
   "execution_count": null,
   "metadata": {},
   "outputs": [],
   "source": []
  }
 ],
 "metadata": {
  "kernelspec": {
   "display_name": "csc-321-assignment-3",
   "language": "python",
   "name": "python3"
  },
  "language_info": {
   "codemirror_mode": {
    "name": "ipython",
    "version": 3
   },
   "file_extension": ".py",
   "mimetype": "text/x-python",
   "name": "python",
   "nbconvert_exporter": "python",
   "pygments_lexer": "ipython3",
   "version": "3.13.0"
  }
 },
 "nbformat": 4,
 "nbformat_minor": 2
}
