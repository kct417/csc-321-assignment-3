{
 "cells": [
  {
   "cell_type": "code",
   "execution_count": 72,
   "metadata": {},
   "outputs": [
    {
     "name": "stdout",
     "output_type": "stream",
     "text": [
      "1024\n"
     ]
    },
    {
     "data": {
      "text/plain": [
       "'Hello, world!'"
      ]
     },
     "execution_count": 72,
     "metadata": {},
     "output_type": "execute_result"
    }
   ],
   "source": [
    "from math import floor\n",
    "from typing import Tuple\n",
    "from Crypto.Util.number import getPrime\n",
    "\n",
    "\n",
    "def mod_inverse(a, m):\n",
    "    gcd, x, _ = egcd(a, m)\n",
    "    assert gcd == 1, f\"the modular multiplicative inverse does not exist for a: {a}, m: {m}\"\n",
    "    return x\n",
    "\n",
    "\n",
    "def egcd(a, b):\n",
    "    \"\"\"\n",
    "    Algorithm outlined at https://en.m.wikipedia.org/wiki/Extended_Euclidean_algorithm\n",
    "\n",
    "    NOTE: must satisfy |a| > |b|\n",
    "    \"\"\"\n",
    "    r_prev = a\n",
    "    r = b\n",
    "    s_prev = 1\n",
    "    s = 0\n",
    "    t_prev = 0\n",
    "    t = 1\n",
    "    while True:\n",
    "        q = floor(r_prev / r)\n",
    "        r_next = r_prev - q * r\n",
    "        s_next = s_prev - q * s\n",
    "        t_next = t_prev - q * t\n",
    "        if r_next == 0:\n",
    "            return r, s, t\n",
    "        r_prev = r\n",
    "        r = r_next\n",
    "        s_prev = s\n",
    "        s = s_next\n",
    "        t_prev = t\n",
    "        t = t_next\n",
    "\n",
    "\n",
    "def generate_keys(prime_size: int = 512):\n",
    "    e = 65537\n",
    "    while True:\n",
    "        p = getPrime(prime_size)\n",
    "        q = getPrime(prime_size)\n",
    "        totient = (p - 1) * (q - 1)\n",
    "        if egcd(e, totient)[0] == 1:  # ensure e is coprime with totient\n",
    "            break\n",
    "    \n",
    "    n = p * q\n",
    "    d = mod_inverse(e, totient)  # modular multiplicative inverse of e mod totient\n",
    "    return (n, e), (n, d)\n",
    "\n",
    "\n",
    "def encrypt(m: str, pubkey: Tuple[int, int]) -> int:\n",
    "    m = int.from_bytes(m.encode())\n",
    "    n, e = pubkey\n",
    "    return pow(m, e, n)\n",
    "\n",
    "\n",
    "def decrypt(c: int, privkey: Tuple[int, int]) -> str:\n",
    "    n, d = privkey\n",
    "    m = pow(c, d, n)\n",
    "    return m.to_bytes((m.bit_length() + 7) // 8).decode()\n",
    "\n",
    "\n",
    "message = \"Hello, world!\"\n",
    "pubkey, privkey = generate_keys()\n",
    "ciphertext = encrypt(message, pubkey)\n",
    "recovered_message = decrypt(ciphertext, privkey)\n",
    "recovered_message"
   ]
  }
 ],
 "metadata": {
  "kernelspec": {
   "display_name": "csc-321-assignment-3",
   "language": "python",
   "name": "python3"
  },
  "language_info": {
   "codemirror_mode": {
    "name": "ipython",
    "version": 3
   },
   "file_extension": ".py",
   "mimetype": "text/x-python",
   "name": "python",
   "nbconvert_exporter": "python",
   "pygments_lexer": "ipython3",
   "version": "3.13.0"
  }
 },
 "nbformat": 4,
 "nbformat_minor": 2
}
