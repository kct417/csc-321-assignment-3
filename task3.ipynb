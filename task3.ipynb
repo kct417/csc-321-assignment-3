{
 "cells": [
  {
   "cell_type": "code",
   "execution_count": 122,
   "metadata": {},
   "outputs": [
    {
     "data": {
      "text/plain": [
       "'Hello, world!'"
      ]
     },
     "execution_count": 122,
     "metadata": {},
     "output_type": "execute_result"
    }
   ],
   "source": [
    "from math import floor\n",
    "from typing import Tuple\n",
    "from Crypto.Util.number import getPrime\n",
    "\n",
    "\n",
    "def mod_inverse(a, m):\n",
    "    gcd, x, _ = egcd(a, m)\n",
    "    assert gcd == 1, f\"the modular multiplicative inverse does not exist for a: {a}, m: {m}\"\n",
    "    return x\n",
    "\n",
    "\n",
    "def egcd(a, b):\n",
    "    \"\"\"\n",
    "    Algorithm outlined at https://en.m.wikipedia.org/wiki/Extended_Euclidean_algorithm\n",
    "\n",
    "    NOTE: must satisfy |a| > |b|\n",
    "    \"\"\"\n",
    "    r_prev = a\n",
    "    r = b\n",
    "    s_prev = 1\n",
    "    s = 0\n",
    "    t_prev = 0\n",
    "    t = 1\n",
    "    while True:\n",
    "        q = floor(r_prev / r)\n",
    "        r_next = r_prev - q * r\n",
    "        s_next = s_prev - q * s\n",
    "        t_next = t_prev - q * t\n",
    "        if r_next == 0:\n",
    "            return r, s, t\n",
    "        r_prev = r\n",
    "        r = r_next\n",
    "        s_prev = s\n",
    "        s = s_next\n",
    "        t_prev = t\n",
    "        t = t_next\n",
    "\n",
    "\n",
    "def generate_keys(prime_size: int = 512): # prime_size > 512 results in float overflow in egcd()\n",
    "    e = 65537\n",
    "    while True:\n",
    "        p = getPrime(prime_size)\n",
    "        q = getPrime(prime_size)\n",
    "        totient = (p - 1) * (q - 1)\n",
    "        if egcd(e, totient)[0] == 1:  # ensure e is coprime with totient\n",
    "            break\n",
    "    \n",
    "    n = p * q\n",
    "    d = mod_inverse(e, totient)  # modular multiplicative inverse of e mod totient\n",
    "    return (n, e), (n, d)\n",
    "\n",
    "\n",
    "def encrypt(message: str, public_key: Tuple[int, int]) -> int:\n",
    "    encoded_message = int.from_bytes(message.encode())\n",
    "    n, e = public_key\n",
    "    return pow(encoded_message, e, n)\n",
    "\n",
    "\n",
    "def decrypt(ciphertext: int, private_key: Tuple[int, int]) -> str:\n",
    "    n, d = private_key\n",
    "    message = pow(ciphertext, d, n)\n",
    "    return message.to_bytes((message.bit_length() + 7) // 8).decode()\n",
    "\n",
    "\n",
    "message = \"Hello, world!\"\n",
    "public_key, private_key = generate_keys()\n",
    "ciphertext = encrypt(message, public_key)\n",
    "recovered_message = decrypt(ciphertext, private_key)\n",
    "recovered_message"
   ]
  },
  {
   "cell_type": "code",
   "execution_count": 123,
   "metadata": {},
   "outputs": [
    {
     "data": {
      "text/plain": [
       "'Hello, world!'"
      ]
     },
     "execution_count": 123,
     "metadata": {},
     "output_type": "execute_result"
    }
   ],
   "source": [
    "from random import randint\n",
    "\n",
    "\n",
    "# calculate a random number to the power of the public key modulo n\n",
    "k = randint(1, public_key[0] - 1)\n",
    "k_e = pow(k, public_key[1], public_key[0])\n",
    "# calculate the altered ciphertext\n",
    "c_prime = (ciphertext * k_e) % public_key[0]\n",
    "m_prime = pow(c_prime, private_key[1], public_key[0])\n",
    "# calculate the unaltered message\n",
    "unaltered_message = (m_prime * mod_inverse(k, public_key[0])) % public_key[0]\n",
    "unaltered_message.to_bytes((unaltered_message.bit_length() + 7) // 8).decode()"
   ]
  },
  {
   "cell_type": "code",
   "execution_count": 125,
   "metadata": {},
   "outputs": [
    {
     "name": "stdout",
     "output_type": "stream",
     "text": [
      "True True True\n"
     ]
    }
   ],
   "source": [
    "def sign(message: int, private_key: Tuple[int, int]) -> int:\n",
    "    n, d = private_key\n",
    "    return pow(message, d, n)\n",
    "\n",
    "\n",
    "def verify(signature: int, message: int, public_key: Tuple[int, int]) -> bool:\n",
    "    n, e = public_key\n",
    "    return message == pow(signature, e, n)\n",
    "\n",
    "# message1 and message2 are encrypted and signed\n",
    "message1 = encrypt(\"First message\", public_key)\n",
    "message2 = encrypt(\"Second message\", public_key)\n",
    "signed_message1 = sign(message1, private_key)\n",
    "signed_message2 = sign(message2, private_key)\n",
    "\n",
    "# message3 is the product of the two messages\n",
    "message3 = (message1 * message2) % public_key[0]\n",
    "# s3 = s1 * s2 mod n\n",
    "# signed_message3 = sign(message1 * message2, private_key)\n",
    "signed_message3 = signed_message1 * signed_message2 % public_key[0]\n",
    "\n",
    "# verify the signed messages\n",
    "verified_message1 = verify(signed_message1, message1, public_key)\n",
    "verified_message2 = verify(signed_message2, message2, public_key)\n",
    "verified_message3 = verify(signed_message3, message3, public_key)\n",
    "print(verified_message1, verified_message2, verified_message3)"
   ]
  }
 ],
 "metadata": {
  "kernelspec": {
   "display_name": "Python 3",
   "language": "python",
   "name": "python3"
  },
  "language_info": {
   "codemirror_mode": {
    "name": "ipython",
    "version": 3
   },
   "file_extension": ".py",
   "mimetype": "text/x-python",
   "name": "python",
   "nbconvert_exporter": "python",
   "pygments_lexer": "ipython3",
   "version": "3.12.0"
  }
 },
 "nbformat": 4,
 "nbformat_minor": 2
}
